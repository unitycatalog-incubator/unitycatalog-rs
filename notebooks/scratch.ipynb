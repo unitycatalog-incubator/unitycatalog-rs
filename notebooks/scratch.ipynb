{
 "cells": [
  {
   "cell_type": "code",
   "execution_count": 6,
   "metadata": {},
   "outputs": [
    {
     "data": {
      "text/plain": [
       "(Protocol(min_reader_version=2, min_writer_version=5),\n",
       " Metadata(partition_columns=[], configuration={\"delta.columnMapping.mode\": \"name\", \"delta.columnMapping.maxColumnId\": \"3\"}))"
      ]
     },
     "execution_count": 6,
     "metadata": {},
     "output_type": "execute_result"
    }
   ],
   "source": [
    "from unitycatalog_client import SharingClient\n",
    "\n",
    "client = SharingClient(\"http://localhost:8080\")\n",
    "\n",
    "shares = client.list_shares()\n",
    "tables = client.list_share_tables(share=shares[0].name)\n",
    "client.get_table_metadata(share=tables[0].share, schema=tables[0].schema, name=tables[0].name)"
   ]
  }
 ],
 "metadata": {
  "kernelspec": {
   "display_name": ".venv",
   "language": "python",
   "name": "python3"
  },
  "language_info": {
   "codemirror_mode": {
    "name": "ipython",
    "version": 3
   },
   "file_extension": ".py",
   "mimetype": "text/x-python",
   "name": "python",
   "nbconvert_exporter": "python",
   "pygments_lexer": "ipython3",
   "version": "3.13.2"
  }
 },
 "nbformat": 4,
 "nbformat_minor": 2
}
