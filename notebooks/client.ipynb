{
 "cells": [
  {
   "cell_type": "code",
   "execution_count": 1,
   "metadata": {},
   "outputs": [],
   "source": [
    "from unitycatalog_client import UnityCatalogClient\n",
    "import os\n"
   ]
  },
  {
   "cell_type": "code",
   "execution_count": 2,
   "metadata": {},
   "outputs": [],
   "source": [
    "host = os.environ[\"DATABRICKS_HOST\"]\n",
    "# client = UnityCatalogClient(base_url=f\"{host}/api/2.1/unity-catalog/\", token=os.environ[\"DATABRICKS_TOKEN\"])\n",
    "client = UnityCatalogClient(base_url=\"http://localhost:8080/api/2.1/unity-catalog/\")"
   ]
  },
  {
   "cell_type": "code",
   "execution_count": 3,
   "metadata": {},
   "outputs": [],
   "source": [
    "catalogs = client.list_catalogs()\n",
    "for catalog in catalogs:\n",
    "    print(catalog.catalog_type)"
   ]
  },
  {
   "cell_type": "code",
   "execution_count": 3,
   "metadata": {},
   "outputs": [],
   "source": [
    "share_client = client.shares(\"new_share\")"
   ]
  },
  {
   "cell_type": "code",
   "execution_count": null,
   "metadata": {},
   "outputs": [],
   "source": [
    "share_client.get()"
   ]
  },
  {
   "cell_type": "code",
   "execution_count": null,
   "metadata": {},
   "outputs": [],
   "source": [
    "from unitycatalog_client import DataObjectUpdate, DataObject, DataObjectType, HistoryStatus, Action\n",
    "\n",
    "share = {\n",
    "    # \"name\": \"new_share\",\n",
    "    \"updates\": [\n",
    "        DataObjectUpdate(**{\n",
    "            \"action\": Action.Add,\n",
    "            \"data_object\": DataObject(**{\n",
    "                \"name\": \"dat.dat.all_primitive_types\",\n",
    "                \"data_object_type\": DataObjectType.Table,\n",
    "                \"shared_as\": \"dat.all_primitive_types\",\n",
    "                \"partitions\": [],\n",
    "                \"history_data_sharing_status\": HistoryStatus.Disabled,\n",
    "                \"enable_cdf\": False\n",
    "            })\n",
    "        }),\n",
    "        DataObjectUpdate(**{\n",
    "            \"action\": Action.Add,\n",
    "            \"data_object\": DataObject(**{\n",
    "                \"name\": \"dat.dat.column_mapping\",\n",
    "                \"data_object_type\": DataObjectType.Table,\n",
    "                \"shared_as\": \"dat.column_mapping\",\n",
    "                \"partitions\": [],\n",
    "                \"history_data_sharing_status\": HistoryStatus.Disabled,\n",
    "                \"enable_cdf\": False\n",
    "            })\n",
    "        })\n",
    "    ]\n",
    "}\n",
    "\n",
    "share_client.update(**share)"
   ]
  }
 ],
 "metadata": {
  "kernelspec": {
   "display_name": ".venv",
   "language": "python",
   "name": "python3"
  },
  "language_info": {
   "codemirror_mode": {
    "name": "ipython",
    "version": 3
   },
   "file_extension": ".py",
   "mimetype": "text/x-python",
   "name": "python",
   "nbconvert_exporter": "python",
   "pygments_lexer": "ipython3",
   "version": "3.13.2"
  }
 },
 "nbformat": 4,
 "nbformat_minor": 2
}
